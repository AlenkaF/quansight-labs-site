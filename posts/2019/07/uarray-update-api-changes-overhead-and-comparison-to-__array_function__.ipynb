{
 "cells": [
  {
   "cell_type": "markdown",
   "metadata": {},
   "source": [
    "`uarray` is a generic override framework for objects and methods in Python. Since [my last `uarray` blogpost](https://labs.quansight.org/blog/2019/04/uarray-intro/), there have been plenty of developments, changes to the API and improvements to the overhead of the protocol. Let’s begin with a walk-through of the current feature set and API, and then move on to current developments and how it compares to [`__array_function__`](www.numpy.org/neps/nep-0018-array-function-protocol.html). For further details on the API and latest developments, please see [the API page for `uarray`](https://uarray.readthedocs.io/en/latest/generated/uarray.html). The examples there are doctested, so they will always be current."
   ]
  },
  {
   "cell_type": "code",
   "execution_count": 1,
   "metadata": {},
   "outputs": [],
   "source": [
    "!export NUMPY_EXPERIMENTAL_ARRAY_FUNCTION=1"
   ]
  },
  {
   "cell_type": "code",
   "execution_count": 2,
   "metadata": {},
   "outputs": [],
   "source": [
    "import uarray as ua\n",
    "import numpy as np"
   ]
  },
  {
   "cell_type": "markdown",
   "metadata": {},
   "source": [
    "In `uarray`, the fundamental building block is a multimethod. Multimethods have a number of nice properties, such as automatic dispatch based on backends. It is important to note here that multimethods will be written by API authors, rather than implementors. Here's how we define a multimethod in `uarray`:\n",
    "<!-- TEASER_END -->"
   ]
  },
  {
   "cell_type": "code",
   "execution_count": 3,
   "metadata": {},
   "outputs": [],
   "source": [
    "my_multimethod = ua.generate_multimethod(\n",
    "    # This is the argument extractor, it also defines the signature.\n",
    "    lambda a, b=None: (),\n",
    "    # This is the reverse dispatcher, it is important for conversion/coercion. It is optional.\n",
    "    lambda a, kw, d: (a, kw),\n",
    "    # This is the domain, it separates the multimethods into clean parts.\n",
    "    \"ql_blogpost\",\n",
    "    # This is the default implementation. It is also optional, which means \"error if no backend is found/set\".\n",
    "    default=lambda a, b=None: (a, b)  # This is the optional default\n",
    ")"
   ]
  },
  {
   "cell_type": "markdown",
   "metadata": {},
   "source": [
    "We will explore the function of each of the parts of this multimethod later. Let's try calling this multimethod."
   ]
  },
  {
   "cell_type": "code",
   "execution_count": 4,
   "metadata": {},
   "outputs": [
    {
     "data": {
      "text/plain": [
       "(1, 2)"
      ]
     },
     "execution_count": 4,
     "metadata": {},
     "output_type": "execute_result"
    }
   ],
   "source": [
    "my_multimethod(1, 2)"
   ]
  },
  {
   "cell_type": "markdown",
   "metadata": {},
   "source": [
    "As we can see, it remains faithful to its purpose. It has a default implementation that it can produce nicely. However, the real power comes when overriding this multimethod. To do this, we must consider the concept of a backend, which is separate. This is different from the view of `__array_function__`, in which array objects themselves define the backend. Here, we have applied the principle of [separation of concerns](https://en.wikipedia.org/wiki/Separation_of_concerns) to separate the multimethod, the objects it operates on, as well as the backend. Note as well that backend authors provide the implementation of a given API.\n",
    "\n",
    "Let’s see how one would define a backend in `uarray`."
   ]
  },
  {
   "cell_type": "code",
   "execution_count": 5,
   "metadata": {},
   "outputs": [],
   "source": [
    "class Backend:\n",
    "    # A backend can only override methods from its own domain\n",
    "    __ua_domain__ = \"ql_blogpost\"\n",
    "    \n",
    "    # This is the main protocol a backend must have in order to work.\n",
    "    @staticmethod\n",
    "    def __ua_function__(\n",
    "        func,  # It gets the multimethod being called,\n",
    "        args, kwargs  # And the arguments the method is called with.\n",
    "    ):\n",
    "        # Here we have the implementation\n",
    "        return func.__name__, args, kwargs\n"
   ]
  },
  {
   "cell_type": "markdown",
   "metadata": {},
   "source": [
    "Now, let's go about overriding the function. Note here that `set_backend` will typically be used by consumers of the API."
   ]
  },
  {
   "cell_type": "code",
   "execution_count": 6,
   "metadata": {},
   "outputs": [
    {
     "name": "stdout",
     "output_type": "stream",
     "text": [
      "('<lambda>', (1, 2), {})\n"
     ]
    }
   ],
   "source": [
    "with ua.set_backend(Backend):\n",
    "    print(my_multimethod(1, 2))"
   ]
  },
  {
   "cell_type": "markdown",
   "metadata": {},
   "source": [
    "As you can see, the function's return value magically changed. Note that this propagates all the way down the call stack. With that, let's get into some of the more magical features of `uarray`, starting with the function of the argument extractor, the argument replacer, and the `__ua_convert__` protocol."
   ]
  },
  {
   "cell_type": "markdown",
   "metadata": {},
   "source": [
    "## The argument extractor and argument-based dispatch\n",
    "\n",
    "The argument extractor (equivalent to a dispatcher in `__array_function__`) is more than just a dummy that returns an empty tuple. It can also return the arguments needed for dispatch. Let’s go ahead and see this in action."
   ]
  },
  {
   "cell_type": "code",
   "execution_count": 7,
   "metadata": {},
   "outputs": [],
   "source": [
    "import numbers\n",
    "my_multimethod_with_dispatch = ua.generate_multimethod(\n",
    "    # a is dispatchable, and it's supposed to be some kind of number\n",
    "    lambda a, b=None: (ua.Dispatchable(a, numbers.Number),),\n",
    "    lambda a, kw, d: (a, kw),\n",
    "    \"ql_blogpost\"\n",
    ")"
   ]
  },
  {
   "cell_type": "markdown",
   "metadata": {},
   "source": [
    "Just to illustrate what happens when a multimethod doesn't have a default implementation, let’s call this multimethod."
   ]
  },
  {
   "cell_type": "code",
   "execution_count": 8,
   "metadata": {},
   "outputs": [
    {
     "ename": "BackendNotImplementedError",
     "evalue": "('No selected backends had an implementation for this function.', [])",
     "output_type": "error",
     "traceback": [
      "\u001b[0;31m---------------------------------------------------------------------------\u001b[0m",
      "\u001b[0;31mBackendNotImplementedError\u001b[0m                Traceback (most recent call last)",
      "\u001b[0;32m<ipython-input-8-14d7909bfa3d>\u001b[0m in \u001b[0;36m<module>\u001b[0;34m\u001b[0m\n\u001b[0;32m----> 1\u001b[0;31m \u001b[0mmy_multimethod_with_dispatch\u001b[0m\u001b[0;34m(\u001b[0m\u001b[0;36m1\u001b[0m\u001b[0;34m,\u001b[0m \u001b[0;36m2\u001b[0m\u001b[0;34m)\u001b[0m\u001b[0;34m\u001b[0m\u001b[0;34m\u001b[0m\u001b[0m\n\u001b[0m",
      "\u001b[0;32m~/Quansight/uarray/uarray/_backend.py\u001b[0m in \u001b[0;36minner\u001b[0;34m(*args, **kwargs)\u001b[0m\n\u001b[1;32m    152\u001b[0m         \u001b[0;32mif\u001b[0m \u001b[0mresult\u001b[0m \u001b[0;32mis\u001b[0m \u001b[0mNotImplemented\u001b[0m\u001b[0;34m:\u001b[0m\u001b[0;34m\u001b[0m\u001b[0;34m\u001b[0m\u001b[0m\n\u001b[1;32m    153\u001b[0m             raise BackendNotImplementedError(\n\u001b[0;32m--> 154\u001b[0;31m                 \u001b[0;34m\"No selected backends had an implementation for this function.\"\u001b[0m\u001b[0;34m,\u001b[0m \u001b[0merrors\u001b[0m\u001b[0;34m\u001b[0m\u001b[0;34m\u001b[0m\u001b[0m\n\u001b[0m\u001b[1;32m    155\u001b[0m             )\n\u001b[1;32m    156\u001b[0m \u001b[0;34m\u001b[0m\u001b[0m\n",
      "\u001b[0;31mBackendNotImplementedError\u001b[0m: ('No selected backends had an implementation for this function.', [])"
     ]
    }
   ],
   "source": [
    "my_multimethod_with_dispatch(1, 2)"
   ]
  },
  {
   "cell_type": "markdown",
   "metadata": {},
   "source": [
    "It raises an error, as is expected, with a message explaining the situation. Now, let's explore dispatch."
   ]
  },
  {
   "cell_type": "code",
   "execution_count": 9,
   "metadata": {},
   "outputs": [],
   "source": [
    "class DispatchBackendInt:\n",
    "    # A backend can only override methods from its own domain\n",
    "    __ua_domain__ = \"ql_blogpost\"\n",
    "    \n",
    "    @staticmethod\n",
    "    def __ua_function__(func, args, kwargs):\n",
    "        return \"int\", func.__name__, args, kwargs\n",
    "    \n",
    "    @staticmethod\n",
    "    def __ua_convert__(\n",
    "        dispatchables,  # The list of dispatchables\n",
    "        coerce # Whether or not to forcibly coerce them to the required form, if possible\n",
    "    ):\n",
    "        converted = []\n",
    "        for d in dispatchables:\n",
    "            # Check if it's a number, we only support ints\n",
    "            if d.type is numbers.Number and isinstance(d.value, int):\n",
    "                converted.append(d.value)\n",
    "            else:\n",
    "                return NotImplemented\n",
    "        \n",
    "        return converted\n",
    "\n",
    "class DispatchBackendFloat:\n",
    "    # A backend can only override methods from its own domain\n",
    "    __ua_domain__ = \"ql_blogpost\"\n",
    "    \n",
    "    @staticmethod\n",
    "    def __ua_function__(func, args, kwargs):\n",
    "        return \"float\", func.__name__, args, kwargs\n",
    "    \n",
    "    @staticmethod\n",
    "    def __ua_convert__(dispatchables, coerce):\n",
    "        converted = []\n",
    "        for d in dispatchables:\n",
    "            # This one only supports floats\n",
    "            if d.type is numbers.Number and isinstance(d.value, float):\n",
    "                converted.append(d.value)\n",
    "            else:\n",
    "                return NotImplemented\n",
    "        \n",
    "        return converted"
   ]
  },
  {
   "cell_type": "code",
   "execution_count": 10,
   "metadata": {},
   "outputs": [
    {
     "name": "stdout",
     "output_type": "stream",
     "text": [
      "('int', '<lambda>', (1, 2), {})\n",
      "('float', '<lambda>', (1.0, 2), {})\n"
     ]
    },
    {
     "ename": "BackendNotImplementedError",
     "evalue": "('No selected backends had an implementation for this function.', [])",
     "output_type": "error",
     "traceback": [
      "\u001b[0;31m---------------------------------------------------------------------------\u001b[0m",
      "\u001b[0;31mBackendNotImplementedError\u001b[0m                Traceback (most recent call last)",
      "\u001b[0;32m<ipython-input-10-cdc811a82346>\u001b[0m in \u001b[0;36m<module>\u001b[0;34m\u001b[0m\n\u001b[1;32m      2\u001b[0m     \u001b[0mprint\u001b[0m\u001b[0;34m(\u001b[0m\u001b[0mmy_multimethod_with_dispatch\u001b[0m\u001b[0;34m(\u001b[0m\u001b[0;36m1\u001b[0m\u001b[0;34m,\u001b[0m \u001b[0;36m2\u001b[0m\u001b[0;34m)\u001b[0m\u001b[0;34m)\u001b[0m\u001b[0;34m\u001b[0m\u001b[0;34m\u001b[0m\u001b[0m\n\u001b[1;32m      3\u001b[0m     \u001b[0mprint\u001b[0m\u001b[0;34m(\u001b[0m\u001b[0mmy_multimethod_with_dispatch\u001b[0m\u001b[0;34m(\u001b[0m\u001b[0;36m1.0\u001b[0m\u001b[0;34m,\u001b[0m \u001b[0;36m2\u001b[0m\u001b[0;34m)\u001b[0m\u001b[0;34m)\u001b[0m\u001b[0;34m\u001b[0m\u001b[0;34m\u001b[0m\u001b[0m\n\u001b[0;32m----> 4\u001b[0;31m     \u001b[0mprint\u001b[0m\u001b[0;34m(\u001b[0m\u001b[0mmy_multimethod_with_dispatch\u001b[0m\u001b[0;34m(\u001b[0m\u001b[0;34m\"1\"\u001b[0m\u001b[0;34m,\u001b[0m \u001b[0;36m2\u001b[0m\u001b[0;34m)\u001b[0m\u001b[0;34m)\u001b[0m\u001b[0;34m\u001b[0m\u001b[0;34m\u001b[0m\u001b[0m\n\u001b[0m",
      "\u001b[0;32m~/Quansight/uarray/uarray/_backend.py\u001b[0m in \u001b[0;36minner\u001b[0;34m(*args, **kwargs)\u001b[0m\n\u001b[1;32m    152\u001b[0m         \u001b[0;32mif\u001b[0m \u001b[0mresult\u001b[0m \u001b[0;32mis\u001b[0m \u001b[0mNotImplemented\u001b[0m\u001b[0;34m:\u001b[0m\u001b[0;34m\u001b[0m\u001b[0;34m\u001b[0m\u001b[0m\n\u001b[1;32m    153\u001b[0m             raise BackendNotImplementedError(\n\u001b[0;32m--> 154\u001b[0;31m                 \u001b[0;34m\"No selected backends had an implementation for this function.\"\u001b[0m\u001b[0;34m,\u001b[0m \u001b[0merrors\u001b[0m\u001b[0;34m\u001b[0m\u001b[0;34m\u001b[0m\u001b[0m\n\u001b[0m\u001b[1;32m    155\u001b[0m             )\n\u001b[1;32m    156\u001b[0m \u001b[0;34m\u001b[0m\u001b[0m\n",
      "\u001b[0;31mBackendNotImplementedError\u001b[0m: ('No selected backends had an implementation for this function.', [])"
     ]
    }
   ],
   "source": [
    "with ua.set_backend(DispatchBackendInt), ua.set_backend(DispatchBackendFloat):\n",
    "    print(my_multimethod_with_dispatch(1, 2))\n",
    "    print(my_multimethod_with_dispatch(1.0, 2))\n",
    "    print(my_multimethod_with_dispatch(\"1\", 2))"
   ]
  },
  {
   "cell_type": "markdown",
   "metadata": {},
   "source": [
    "As we can see, the method dispatches fine on `int` and `float` to the correct implementation but raises an error for strings. Let's make a small modification to make even working with `int` possible:"
   ]
  },
  {
   "cell_type": "code",
   "execution_count": 11,
   "metadata": {},
   "outputs": [],
   "source": [
    "# The argument replacer is supposed to replace the args/kwargs\n",
    "# with the right dispatchables\n",
    "def my_ar(args, kwargs, dispatchables):\n",
    "    def replacer(a, b=None):\n",
    "        return dispatchables, {'b': b}\n",
    "    \n",
    "    return replacer(*args, **kwargs)\n",
    "\n",
    "my_multimethod_with_dispatch = ua.generate_multimethod(\n",
    "    lambda a, b=None: (ua.Dispatchable(a, numbers.Number),),\n",
    "    my_ar,  # We put the right thing here.\n",
    "    \"ql_blogpost\"\n",
    ")"
   ]
  },
  {
   "cell_type": "code",
   "execution_count": 12,
   "metadata": {},
   "outputs": [],
   "source": [
    "class DispatchBackendInt:\n",
    "    # A backend can only override methods from its own domain\n",
    "    __ua_domain__ = \"ql_blogpost\"\n",
    "    \n",
    "    @staticmethod\n",
    "    def __ua_function__(func, args, kwargs):\n",
    "        return \"int\", func.__name__, args, kwargs\n",
    "    \n",
    "    @staticmethod\n",
    "    def __ua_convert__(dispatchables, coerce):\n",
    "        converted = []\n",
    "        for d in dispatchables:\n",
    "            if d.type is numbers.Number:\n",
    "                if isinstance(d.value, int):\n",
    "                    converted.append(d.value)\n",
    "                # If we're allowed to coerce it\n",
    "                elif coerce and d.coercible:\n",
    "                    try:\n",
    "                        converted.append(int(d.value))\n",
    "                    # Make sure unsupported conversions are caught\n",
    "                    except TypeError:\n",
    "                        return NotImplemented\n",
    "                else:\n",
    "                    return NotImplemented\n",
    "            else:\n",
    "                # Handle the base case\n",
    "                return NotImplemented\n",
    "        \n",
    "        return converted"
   ]
  },
  {
   "cell_type": "code",
   "execution_count": 13,
   "metadata": {},
   "outputs": [
    {
     "name": "stdout",
     "output_type": "stream",
     "text": [
      "('int', '<lambda>', (1,), {'b': 2})\n"
     ]
    }
   ],
   "source": [
    "with ua.set_backend(DispatchBackendInt, coerce=True):\n",
    "    print(my_multimethod_with_dispatch(\"1\", 2))"
   ]
  },
  {
   "cell_type": "markdown",
   "metadata": {},
   "source": [
    "Note that we must pass the `coerce=True` parameter to make this work, otherwise the method will return `NotImplemented` and fail. Note also that the string has been correctly converted before being passed into the function. I previously mentioned the possibility of adding a reverse dispatcher to `__array_function__` [[1]](https://github.com/numpy/numpy/issues/12974#issuecomment-467197477) [[2]](https://github.com/dask/dask/pull/4567#issuecomment-471630100), but it was rejected. I have added it to `uarray`, but it is optional."
   ]
  },
  {
   "cell_type": "markdown",
   "metadata": {},
   "source": [
    "## Meta-backends: Backends which may rely on others\n",
    "One other thing easily possible in `uarray` not easily possible in other frameworks is the possibility of meta backends. These are backends which could rely on other backends. Suppose, that a backend wraps other objects and needs to get data out, and then call other backends:"
   ]
  },
  {
   "cell_type": "code",
   "execution_count": 14,
   "metadata": {},
   "outputs": [],
   "source": [
    "class CustomNumber(numbers.Number):\n",
    "    def __init__(self, n):\n",
    "        self.n = n"
   ]
  },
  {
   "cell_type": "code",
   "execution_count": 15,
   "metadata": {},
   "outputs": [],
   "source": [
    "class DispatchBackendCustom:\n",
    "    # A backend can only override methods from its own domain\n",
    "    __ua_domain__ = \"ql_blogpost\"\n",
    "    \n",
    "    @staticmethod\n",
    "    def __ua_function__(func, args, kwargs):\n",
    "        with ua.skip_backend(DispatchBackendCustom):\n",
    "            return (\"Custom\",) + func(*args, **kwargs)\n",
    "            \n",
    "    @staticmethod\n",
    "    def __ua_convert__(dispatchables, coerce):\n",
    "        converted = []\n",
    "        for d in dispatchables:\n",
    "            if d.type is numbers.Number and isinstance(d.value, CustomNumber):\n",
    "                # Access the internal value, no conversion going on\n",
    "                converted.append(d.value.n)\n",
    "            else:\n",
    "                # Handle the base case\n",
    "                return NotImplemented\n",
    "        \n",
    "        return converted"
   ]
  },
  {
   "cell_type": "code",
   "execution_count": 16,
   "metadata": {},
   "outputs": [
    {
     "name": "stdout",
     "output_type": "stream",
     "text": [
      "('Custom', 'int', '<lambda>', (1,), {'b': 2})\n"
     ]
    }
   ],
   "source": [
    "with ua.set_backend(DispatchBackendCustom), ua.set_backend(DispatchBackendInt):\n",
    "    print(my_multimethod_with_dispatch(CustomNumber(1), 2))"
   ]
  },
  {
   "cell_type": "markdown",
   "metadata": {},
   "source": [
    "## Permanent registration of backend\n",
    "`uarray` provides permanent registration for backends, after which the backend will be automatically tried every time. This is user-facing code, and we recommend that no libraries register themselves permanently, apart from reference implementations. This can be done via the [`register_backend`](https://uarray.readthedocs.io/en/latest/generated/uarray.register_backend.html) method."
   ]
  },
  {
   "cell_type": "markdown",
   "metadata": {},
   "source": [
    "## The overhead of `uarray`\n",
    "\n",
    "One of the limiting factors in the adoption of `uarray` has been its overhead. This is currently [being brought down](https://github.com/Quansight-Labs/uarray/pull/170) by a GSoC student working on `uarray`, named [Peter Bell](https://github.com/peterbell10), who is working on a C++ implementation of the protocol. As of the last version, the overhead on my machine was about 1.37 μs per call, and this is still being worked on."
   ]
  },
  {
   "cell_type": "code",
   "execution_count": null,
   "metadata": {},
   "outputs": [],
   "source": []
  }
 ],
 "metadata": {
  "kernelspec": {
   "display_name": "Python 3",
   "language": "python",
   "name": "python3"
  },
  "language_info": {
   "codemirror_mode": {
    "name": "ipython",
    "version": 3
   },
   "file_extension": ".py",
   "mimetype": "text/x-python",
   "name": "python",
   "nbconvert_exporter": "python",
   "pygments_lexer": "ipython3",
   "version": "3.7.3"
  },
  "nikola": {
   "author": "Hameer Abbasi",
   "category": "",
   "date": "2019-07-03 06:36:54 UTC-05:00",
   "description": "",
   "link": "",
   "slug": "uarray-update-api-changes-overhead-and-comparison-to-__array_function__",
   "tags": "",
   "title": "`uarray` Update: API Changes, Overhead and Comparison to `__array_function__`",
   "type": "text"
  }
 },
 "nbformat": 4,
 "nbformat_minor": 2
}
